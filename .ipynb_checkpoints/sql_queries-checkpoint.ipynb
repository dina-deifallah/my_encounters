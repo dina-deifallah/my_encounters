{
 "cells": [
  {
   "cell_type": "markdown",
   "id": "92f63804",
   "metadata": {},
   "source": [
    "# 1. Introduction"
   ]
  },
  {
   "cell_type": "markdown",
   "id": "ea979d63",
   "metadata": {},
   "source": [
    "## 1.1 What is SQL ?"
   ]
  },
  {
   "cell_type": "markdown",
   "id": "df74ed16",
   "metadata": {},
   "source": [
    "- SQL stands for Structured Query Language.\n",
    "- It allows you access and manipulate databases.\n",
    "- Although SQL is an ANSI/ISO standard, there are different versions/flavors of the SQL language, depending on the database program used (ex. MySQL, MS Access, SQL Server, Orcale). \n",
    "- All versions are very similar in their construction and their support for the main commands (such as SELECT, UPDATE, DELETE, INSERT, WHERE)\n"
   ]
  },
  {
   "cell_type": "markdown",
   "id": "e29959fb",
   "metadata": {},
   "source": [
    "## 1.2 What can SQL do ?\n"
   ]
  },
  {
   "cell_type": "markdown",
   "id": "63067703",
   "metadata": {},
   "source": [
    "SQL is one of the most important technical skills/tools for a data professional. Some of the things it can do:\n",
    "\n",
    "- SQL can create and delete databases\n",
    "- SQL can create and delete tables in a database\n",
    "- SQL can insert, delete and update records in a database\n",
    "- SQL can retrieve data from a database\n",
    "- SQL can also clean retrieved data before further manipulation (with python for example) to carry out an analysis."
   ]
  },
  {
   "cell_type": "markdown",
   "id": "cceacf4a",
   "metadata": {},
   "source": [
    "## 1.3 What are the main commands in SQL ?\n"
   ]
  },
  {
   "cell_type": "markdown",
   "id": "dd819285",
   "metadata": {},
   "source": [
    "The main commands of SQL can be easily remembered using this template SQL query\n",
    "\n",
    "   **SELECT** columns, aggregate(column) <br>\n",
    "   FROM table_or_subquery  <br>\n",
    "   **INNER/OUTER JOIN** other_table ON condition  <br>\n",
    "   **WHERE** condition  <br>\n",
    "   **GROUP** BY columns  <br>\n",
    "   **HAVING** condition_after_aggregation  <br>\n",
    "   **ORDER BY** column ASC|DESC  <br>\n",
    "   **LIMIT** number;  <br>"
   ]
  },
  {
   "cell_type": "markdown",
   "id": "64f6f40e",
   "metadata": {},
   "source": [
    "# 2. Warm-up "
   ]
  },
  {
   "cell_type": "markdown",
   "id": "a4e7b10f",
   "metadata": {},
   "source": [
    "## 2.1 Q1"
   ]
  },
  {
   "cell_type": "markdown",
   "id": "ac14cf68",
   "metadata": {},
   "source": [
    "for a warm up and recap on yesterday's lessons, let's:\n",
    "\n",
    "- create a new DB and give it a any name (ex. examples)\n",
    "- create a new table, named **countries**, and load the csv file named **large_countries_2015.csv** in it"
   ]
  },
  {
   "cell_type": "markdown",
   "id": "33f17dcc",
   "metadata": {},
   "source": [
    "## 2.2 A1"
   ]
  },
  {
   "cell_type": "markdown",
   "id": "cddd1e3e",
   "metadata": {
    "collapsed": true,
    "scrolled": false
   },
   "source": [
    "*in psql*\n",
    "\n",
    "CREATE DATABASE examples;\n",
    "\n",
    "\\c examples;\n",
    "\n",
    "CREATE TABLE countries ( <br>\n",
    "country VARCHAR(60), <br>\n",
    "population NUMERIC, <br>\n",
    "fertility NUMERIC, <br>\n",
    "continent VARCHAR(60)); <br>\n",
    "\n",
    "COPY countries <br>\n",
    "FROM 'csv_file_path' <br>\n",
    "DELIMITER ',' <br>\n",
    "CSV HEADER; <br>\n",
    "\n"
   ]
  },
  {
   "cell_type": "markdown",
   "id": "d4a6beb5",
   "metadata": {
    "scrolled": false
   },
   "source": [
    "# 3. Queries"
   ]
  },
  {
   "cell_type": "markdown",
   "id": "656c3dbe",
   "metadata": {},
   "source": [
    "## Q2: Examine the entire table. How many rows are there ?"
   ]
  },
  {
   "cell_type": "markdown",
   "id": "3810ea88",
   "metadata": {},
   "source": [
    "## A2: \n",
    "\n",
    "SELECT * <br>\n",
    "FROM countries; \n",
    "\n",
    "SELECT COUNT(\\*)\n",
    "FROM countries;"
   ]
  },
  {
   "cell_type": "markdown",
   "id": "db337857",
   "metadata": {},
   "source": [
    "## Q3: Select first 5 rows in table"
   ]
  },
  {
   "cell_type": "markdown",
   "id": "47f3e6b4",
   "metadata": {},
   "source": [
    "## A3:\n",
    "\n",
    "SELECT * <br>\n",
    "FROM countries <br>\n",
    "LIMIT 5;"
   ]
  },
  {
   "cell_type": "markdown",
   "id": "0b9b45a7",
   "metadata": {},
   "source": [
    "## Q4: Select country and population columns in the first 10 rows of the table"
   ]
  },
  {
   "cell_type": "markdown",
   "id": "5dc111ee",
   "metadata": {},
   "source": [
    "## A4:\n",
    "\n",
    "SELECT country, population <br>\n",
    "FROM countries <br>\n",
    "LIMIT 10;"
   ]
  },
  {
   "cell_type": "markdown",
   "id": "0e2e5d76",
   "metadata": {},
   "source": [
    "## Q5: Update table so that population is in millions and round to the nearest million"
   ]
  },
  {
   "cell_type": "markdown",
   "id": "fa2bfa5b",
   "metadata": {},
   "source": [
    "## A5:\n",
    "\n",
    "UPDATE countries <br>\n",
    "SET population = round(population/1000000);"
   ]
  },
  {
   "cell_type": "markdown",
   "id": "708a199a",
   "metadata": {},
   "source": [
    "# Q6: Select rows where the country is in Asia, order by fertility rate"
   ]
  },
  {
   "cell_type": "markdown",
   "id": "ef742182",
   "metadata": {},
   "source": [
    "## A6:\n",
    "\n",
    "SELECT * <br>\n",
    "FROM countries <br>\n",
    "WHERE continent = 'Asia' <br>\n",
    "ORDER BY fertility;"
   ]
  },
  {
   "cell_type": "markdown",
   "id": "7fb1f17e",
   "metadata": {},
   "source": [
    "## Q7: Select rows where country is NOT in Asia and fertility rate is greater than 2"
   ]
  },
  {
   "cell_type": "markdown",
   "id": "f544232a",
   "metadata": {},
   "source": [
    "## A7:\n",
    "\n",
    "SELECT * <br>\n",
    "FROM countries <br>\n",
    "WHERE continent <> 'Asia' AND fertility > 2;"
   ]
  },
  {
   "cell_type": "markdown",
   "id": "62b90489",
   "metadata": {},
   "source": [
    "## Q8: Select rows where country is in Asia OR Africa AND fertility rate is greater than 2"
   ]
  },
  {
   "cell_type": "markdown",
   "id": "3e45c517",
   "metadata": {},
   "source": [
    "## A8:\n",
    "\n",
    "SELECT * <br>\n",
    "FROM countries <br>\n",
    "WHERE continent IN ('Asia', 'Africa') AND fertility > 2;"
   ]
  },
  {
   "cell_type": "markdown",
   "id": "61979408",
   "metadata": {},
   "source": [
    "## Q9: Which countries have a fertility rate between 1.4 and 2 ? What is their population ?"
   ]
  },
  {
   "cell_type": "markdown",
   "id": "744cccc3",
   "metadata": {},
   "source": [
    "## A9: \n",
    "\n",
    "SELECT country, population, fertility <br>\n",
    "FROM countries <br>\n",
    "WHERE fertility BETWEEN 1.4 AND 2; <br>"
   ]
  },
  {
   "cell_type": "markdown",
   "id": "3215a058",
   "metadata": {},
   "source": [
    "## Q10: Which countries are in continents that starts with the letter A ?"
   ]
  },
  {
   "cell_type": "markdown",
   "id": "3ba3aa98",
   "metadata": {},
   "source": [
    "## A10:\n",
    "\n",
    "SELECT country, continent <br>\n",
    "FROM countries <br>\n",
    "WHERE continent LIKE 'A%'; <br>\n"
   ]
  },
  {
   "cell_type": "markdown",
   "id": "8f978fd6",
   "metadata": {},
   "source": [
    "# Q11: How continents are in the table ?\n",
    "\n"
   ]
  },
  {
   "cell_type": "markdown",
   "id": "4c2c0a4d",
   "metadata": {},
   "source": [
    "## A11:\n",
    "\n",
    "SELECT DISTINCT continent <br>\n",
    "FROM countries; <br>\n",
    "\n",
    "<br> \n",
    "SELECT COUNT(DISTINCT continent)) <br>\n",
    "FROM countries;"
   ]
  },
  {
   "cell_type": "markdown",
   "id": "89f5c654",
   "metadata": {},
   "source": [
    "## Q12: What is the average population and fertility rate of countries in Asia ?\n",
    "\n"
   ]
  },
  {
   "cell_type": "markdown",
   "id": "09123f2a",
   "metadata": {},
   "source": [
    "## A12: \n",
    "\n",
    "SELECT AVG(population) AS avg_population,  AVG(fertility) AS avg_fertility <br>\n",
    "FROM countries <br>\n",
    "WHERE continent = 'Asia';\n"
   ]
  },
  {
   "cell_type": "markdown",
   "id": "cdd30831",
   "metadata": {},
   "source": [
    "## Q13: What is the average population, minimum and maximum fertility rate per continent ?"
   ]
  },
  {
   "cell_type": "markdown",
   "id": "97b6cb4b",
   "metadata": {},
   "source": [
    "## A13:\n",
    "\n",
    "SELECT continent, <br>\n",
    "       AVG(population) AS avg_pop, <br>\n",
    "       MIN(fertility) AS min_fer, <br>\n",
    "       MAX(fertility) AS max_fer <br>\n",
    "FROM countries <br>\n",
    "GROUP BY continent <br>\n",
    "ORDER BY continent; <br>"
   ]
  },
  {
   "cell_type": "markdown",
   "id": "3624d86a",
   "metadata": {},
   "source": [
    "## Q14: same as Q13, but filter for continents with minimum fertility greater than 1.7. How many countries are represented in these continents ?"
   ]
  },
  {
   "cell_type": "markdown",
   "id": "7b02e4a0",
   "metadata": {},
   "source": [
    "## A14:\n",
    "\n",
    "SELECT continent, <br>\n",
    "COUNT(country) AS n_country, <br>\n",
    "AVG(population) AS avg_pop, <br>\n",
    "MIN(fertility) AS min_fer, <br>\n",
    "MAX(fertility) AS max_fer <br>\n",
    "FROM countries <br>\n",
    "GROUP BY continent <br>\n",
    "HAVING MIN(fertility) > 1.7 <br>\n",
    "ORDER BY continent;\n"
   ]
  },
  {
   "cell_type": "markdown",
   "id": "2839675c",
   "metadata": {},
   "source": [
    "## Q15: Which countries have a fertility rate higher than the average of their respective continents ?\n",
    "\n"
   ]
  },
  {
   "cell_type": "markdown",
   "id": "839b5fd8",
   "metadata": {},
   "source": [
    "## A15:\n",
    "\n",
    "SELECT * , <br>\n",
    "       ROUND(AVG(fertility) OVER (PARTITION BY continent), 2) AS cont_avg_fer, <br>\n",
    "       fertility - ROUND(AVG(fertility) OVER (PARTITION BY continent), 2) AS cont_fer_diff        \n",
    "FROM countries <br>\n",
    "ORDER BY country;\n",
    "\n",
    "\n"
   ]
  },
  {
   "cell_type": "code",
   "execution_count": null,
   "id": "1f4f2c2d",
   "metadata": {},
   "outputs": [],
   "source": []
  }
 ],
 "metadata": {
  "kernelspec": {
   "display_name": "Python 3",
   "language": "python",
   "name": "python3"
  },
  "language_info": {
   "codemirror_mode": {
    "name": "ipython",
    "version": 3
   },
   "file_extension": ".py",
   "mimetype": "text/x-python",
   "name": "python",
   "nbconvert_exporter": "python",
   "pygments_lexer": "ipython3",
   "version": "3.8.8"
  }
 },
 "nbformat": 4,
 "nbformat_minor": 5
}
