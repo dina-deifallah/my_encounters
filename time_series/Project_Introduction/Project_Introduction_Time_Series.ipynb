{
 "cells": [
  {
   "cell_type": "markdown",
   "metadata": {},
   "source": [
    "--> This week we are dealing with a regression problem again"
   ]
  },
  {
   "cell_type": "markdown",
   "metadata": {},
   "source": [
    "# Project Time Series\n",
    "\n",
    "## Time Series Data\n",
    "\n",
    "**\"An obvious characteristic of time series data that distinguishes it from cross-sectional data is temporal ordering.\"**<br>\n",
    "- Introductory Econometrics, J. Wooldridge\n",
    "\n",
    "Time Sereis Data has 3 common components. We will talk about those components in the afternoon.\n",
    "\n",
    "## Time Series Analysis\n",
    "\n",
    "Time Series Analysis is a field of statistical Analysis that deals with modelling **time dependence**, one of the components.\n",
    "\n",
    "## Topics we will cover this week\n",
    "\n",
    "- Model time series data and its different components\n",
    "- Distribution Functions\n",
    "- (Linear) Autoregressive Model\n",
    "- Evaluation of Time Series Models\n",
    "- Statistics of Time Series Analysis\n",
    "- Visualizing Time Series Data on a Map\n",
    "- ARIMA Model\n",
    "\n",
    "## Main Project Goal\n",
    "\n",
    "- Understand the purpose of time series analysis\n",
    "- Build a baseline model\n",
    "- Build a model that is able to make short term temperature forecasts\n",
    "- Understand distribution functions and the statistics of time series\n",
    "- Work with the remainder\n",
    "- Plot the temperature data over time\n",
    "- Be creative and define your own goal"
   ]
  },
  {
   "cell_type": "code",
   "execution_count": null,
   "metadata": {},
   "outputs": [],
   "source": []
  }
 ],
 "metadata": {
  "kernelspec": {
   "display_name": "Python 3",
   "language": "python",
   "name": "python3"
  },
  "language_info": {
   "codemirror_mode": {
    "name": "ipython",
    "version": 3
   },
   "file_extension": ".py",
   "mimetype": "text/x-python",
   "name": "python",
   "nbconvert_exporter": "python",
   "pygments_lexer": "ipython3",
   "version": "3.8.8"
  }
 },
 "nbformat": 4,
 "nbformat_minor": 4
}
