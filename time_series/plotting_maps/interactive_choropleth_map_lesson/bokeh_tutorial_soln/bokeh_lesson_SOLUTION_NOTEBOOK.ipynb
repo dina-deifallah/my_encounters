{
 "cells": [
  {
   "cell_type": "markdown",
   "metadata": {},
   "source": [
    "## Lesson: \n",
    "- **Step-by-step guide to generating an interactive climate map in Bokeh (& Geopandas)**\n",
    "- **Code already filled in** (to make sure that it works), but students will be given a version of this notebook with less code pre-written."
   ]
  },
  {
   "cell_type": "markdown",
   "metadata": {},
   "source": [
    "### STEP 1: Read in historical temperature data\n",
    "- This data was already scraped from Berkeley Earth and then post-processed to make this activity a bit easier.\n",
    "- Make sure students understand what it is (pretty self-explanatory)"
   ]
  },
  {
   "cell_type": "code",
   "execution_count": null,
   "metadata": {},
   "outputs": [],
   "source": [
    "import pandas as pd"
   ]
  },
  {
   "cell_type": "code",
   "execution_count": null,
   "metadata": {},
   "outputs": [],
   "source": [
    "df = pd.read_csv('../data/all_country_temp_data_CLEAN.csv')"
   ]
  },
  {
   "cell_type": "code",
   "execution_count": null,
   "metadata": {},
   "outputs": [],
   "source": [
    "df.head()"
   ]
  },
  {
   "cell_type": "markdown",
   "metadata": {},
   "source": [
    "### STEP 2: Read in the geographic data (geometric shapes of all countries in the world) \n",
    "- Shape file (.shp)\n",
    "    - https://en.wikipedia.org/wiki/Shapefile#Shapefile_shape_format_(.shp)\n",
    "- We will need a specialized library in Python for handling geographic data -- **GeoPandas**\n",
    "- Installing GeoPandas: http://geopandas.org/install.html"
   ]
  },
  {
   "cell_type": "code",
   "execution_count": null,
   "metadata": {},
   "outputs": [],
   "source": [
    "import geopandas as gpd\n",
    "SHAPEFILE = '../data/ne_110m_admin_0_countries.shp'\n",
    "gdf = gpd.read_file(SHAPEFILE)[['ADMIN', 'geometry']]\n",
    "#we only need country name and the geometry"
   ]
  },
  {
   "cell_type": "code",
   "execution_count": null,
   "metadata": {},
   "outputs": [],
   "source": [
    "gdf.columns = ['country', 'geometry']"
   ]
  },
  {
   "cell_type": "code",
   "execution_count": null,
   "metadata": {},
   "outputs": [],
   "source": [
    "gdf.head()"
   ]
  },
  {
   "cell_type": "markdown",
   "metadata": {},
   "source": [
    "### STEP 3: Group / aggregate the temperature anomaly data by year\n",
    "- For simplicity, we're only interested in yearly averages"
   ]
  },
  {
   "cell_type": "code",
   "execution_count": null,
   "metadata": {},
   "outputs": [],
   "source": [
    "df = df.groupby(['country', 'year'])[['monthly_anomaly']].mean().reset_index()"
   ]
  },
  {
   "cell_type": "markdown",
   "metadata": {},
   "source": [
    "### STEP 4: Merge Data Sets.\n",
    "- We want to have our temperature data and geometric data in one place.\n",
    "- Make sure you're still left with a GeoDataFrame at the end."
   ]
  },
  {
   "cell_type": "code",
   "execution_count": null,
   "metadata": {},
   "outputs": [],
   "source": [
    "gdf = pd.merge(left=gdf, right=df, how='left', on='country')"
   ]
  },
  {
   "cell_type": "code",
   "execution_count": null,
   "metadata": {},
   "outputs": [],
   "source": [
    "gdf.head()"
   ]
  },
  {
   "cell_type": "markdown",
   "metadata": {},
   "source": [
    "---\n",
    "---\n",
    "### Time for Visualization\n",
    "\n",
    "---\n",
    "---"
   ]
  },
  {
   "cell_type": "markdown",
   "metadata": {},
   "source": [
    "### STEP 5: Let's see if we can plot data on a map for a single year.\n",
    "- We'll make it interactive later\n",
    "- The Bokeh library (as well as many other JavaScript-based mapping libraries) require the data to be in GeoJSON format.\n",
    "- So let's generate a GeoJSON for a single year.\n",
    "- **Three Steps:**\n",
    "    1. Generate a blank figure\n",
    "    2. Add country shapes / polygons onto the map\n",
    "    3. Color the shapes according to temperature values"
   ]
  },
  {
   "cell_type": "markdown",
   "metadata": {},
   "source": [
    "#### 5a. Generate a blank canvas / figure."
   ]
  },
  {
   "cell_type": "code",
   "execution_count": null,
   "metadata": {},
   "outputs": [],
   "source": [
    "from bokeh.plotting import figure\n",
    "\n",
    "#Create a blank figure object.\n",
    "p = figure(title = 'Avg. Monthly Temperature Anomaly for Year 2000',\n",
    "           plot_height = 600,\n",
    "           plot_width = 1000,\n",
    "          )"
   ]
  },
  {
   "cell_type": "code",
   "execution_count": null,
   "metadata": {},
   "outputs": [],
   "source": [
    "#Display figure inline in Jupyter Notebook.\n",
    "from bokeh.io import output_notebook, show\n",
    "\n",
    "output_notebook()\n",
    "show(p)"
   ]
  },
  {
   "cell_type": "markdown",
   "metadata": {},
   "source": [
    "#### 5b. Generate a GeoJSON for a single year and use it to add geometry layer onto the figure"
   ]
  },
  {
   "cell_type": "code",
   "execution_count": null,
   "metadata": {},
   "outputs": [],
   "source": [
    "json_2000 = gdf[gdf['year'] == 2000].to_json()"
   ]
  },
  {
   "cell_type": "code",
   "execution_count": null,
   "metadata": {},
   "outputs": [],
   "source": [
    "from bokeh.models import GeoJSONDataSource\n",
    "geosource = GeoJSONDataSource(geojson = json_2000)"
   ]
  },
  {
   "cell_type": "code",
   "execution_count": null,
   "metadata": {},
   "outputs": [],
   "source": [
    "#Add patch renderer to figure. Like actually add the map to the canvas.\n",
    "p.patches('xs',\n",
    "          'ys',\n",
    "          source = geosource,\n",
    "          line_color = 'black',\n",
    "          line_width = 0.25)"
   ]
  },
  {
   "cell_type": "code",
   "execution_count": null,
   "metadata": {},
   "outputs": [],
   "source": [
    "show(p)"
   ]
  },
  {
   "cell_type": "markdown",
   "metadata": {},
   "source": [
    "### 5c. Let's associate values with some colors"
   ]
  },
  {
   "cell_type": "code",
   "execution_count": null,
   "metadata": {},
   "outputs": [],
   "source": [
    "from bokeh.palettes import brewer"
   ]
  },
  {
   "cell_type": "code",
   "execution_count": null,
   "metadata": {},
   "outputs": [],
   "source": [
    "palette = brewer['RdBu'][9]"
   ]
  },
  {
   "cell_type": "code",
   "execution_count": null,
   "metadata": {},
   "outputs": [],
   "source": [
    "from bokeh.models import LinearColorMapper\n",
    "color_mapper = LinearColorMapper(palette = palette,\n",
    "                                 low = -3,\n",
    "                                 high = 3, \n",
    "                                 nan_color = '#d9d9d9')"
   ]
  },
  {
   "cell_type": "code",
   "execution_count": null,
   "metadata": {},
   "outputs": [],
   "source": [
    "from bokeh.models import ColorBar\n",
    "color_bar = ColorBar(color_mapper=color_mapper,\n",
    "                     label_standoff=8,\n",
    "                     width = 500,\n",
    "                     height = 20,\n",
    "                     border_line_color=None,\n",
    "                     location = (0,0),\n",
    "                     orientation = 'horizontal'\n",
    "                    )"
   ]
  },
  {
   "cell_type": "code",
   "execution_count": null,
   "metadata": {},
   "outputs": [],
   "source": [
    "p.add_layout(color_bar, 'below')\n",
    "show(p)"
   ]
  },
  {
   "cell_type": "code",
   "execution_count": null,
   "metadata": {},
   "outputs": [],
   "source": [
    "p.patches('xs',\n",
    "          'ys',\n",
    "          source = geosource,\n",
    "          fill_color = {'field' :'monthly_anomaly', 'transform':color_mapper}, ### NEW ###\n",
    "          line_color = 'black',\n",
    "          line_width = 0.25)"
   ]
  },
  {
   "cell_type": "code",
   "execution_count": null,
   "metadata": {},
   "outputs": [],
   "source": [
    "show(p)"
   ]
  },
  {
   "cell_type": "markdown",
   "metadata": {},
   "source": [
    "### STEP 6: Add Interactivity so that we can change attributes of the map with a slider\n",
    "- Bokeh provides an extensive set of widgets and tools and makes it very simple to create rich, interactive visualizations. We will define a few functions and reuse a major chunk of code written for creating the static map.\n",
    "- Three Steps:\n",
    "    1. Let's make our lives easier by defining a function that changes the data (i.e. GeoJSON) based on year.\n",
    "    2. Add a slider widget that we can interact with\n",
    "    3. Write a function that controls what changes when we move the slider."
   ]
  },
  {
   "cell_type": "markdown",
   "metadata": {},
   "source": [
    "#### 6a. Function"
   ]
  },
  {
   "cell_type": "code",
   "execution_count": null,
   "metadata": {},
   "outputs": [],
   "source": [
    "def get_geojson(yr):\n",
    "    \"\"\"Input a year (int) and return corresponding slice of the GeoDataFrame, converted to GeoJSON\"\"\"\n",
    "    gdf_year = gdf[gdf['year'] == yr]\n",
    "    json_data = gdf_year.to_json()\n",
    "    return json_data\n",
    "\n",
    "geosource = GeoJSONDataSource(geojson = get_geojson(2000))"
   ]
  },
  {
   "cell_type": "code",
   "execution_count": null,
   "metadata": {},
   "outputs": [],
   "source": [
    "### OLD CODE AGAIN FOR REFERENCE:\n",
    "\n",
    "p = figure(title = 'Avg. Monthly Temperature Anomaly for Year 2000',\n",
    "           plot_height = 600,\n",
    "           plot_width = 1000)\n",
    "\n",
    "\n",
    "palette = brewer['RdBu'][9]\n",
    "\n",
    "color_mapper = LinearColorMapper(palette = palette,\n",
    "                                 low = -3,\n",
    "                                 high = 3, \n",
    "                                 nan_color = '#d9d9d9')\n",
    "\n",
    "color_bar = ColorBar(color_mapper=color_mapper,\n",
    "                     label_standoff=8,\n",
    "                     width = 500,\n",
    "                     height = 20,\n",
    "                     border_line_color=None,\n",
    "                     location = (0,0),\n",
    "                     orientation = 'horizontal'\n",
    "                    )\n",
    "\n",
    "p.patches('xs',\n",
    "          'ys',\n",
    "          source = geosource,\n",
    "          fill_color = {'field' :'monthly_anomaly', 'transform':color_mapper}, ### NEW ###\n",
    "          line_color = 'black',\n",
    "          line_width = 0.25)\n",
    "\n",
    "p.add_layout(color_bar, 'below')"
   ]
  },
  {
   "cell_type": "markdown",
   "metadata": {},
   "source": [
    "#### 6b. Slider Widget"
   ]
  },
  {
   "cell_type": "code",
   "execution_count": null,
   "metadata": {},
   "outputs": [],
   "source": [
    "from bokeh.models import Slider\n",
    "slider = Slider(title = 'Year', start = 1900, end = 2013, step = 1, value = 1900)"
   ]
  },
  {
   "cell_type": "markdown",
   "metadata": {},
   "source": [
    "#### 6c. \"Callback\" Function\n",
    "- Now, the really cool features about the slider is that you can put in your own, custom callback function!!\n",
    "- So basically, all we have to do is write our own python function that does whatever we want to happen everytime the slider is adjusted."
   ]
  },
  {
   "cell_type": "code",
   "execution_count": null,
   "metadata": {},
   "outputs": [],
   "source": [
    "def update_plot(attr, old, new):\n",
    "    \"\"\"Change properties / attributes of the datasource and title depending on slider value / position.\"\"\"\n",
    "    yr = slider.value\n",
    "    new_data = get_geojson(yr)\n",
    "    geosource.geojson = new_data\n",
    "    p.title.text = f'Avg. Monthly Temperature Anomaly for Year {yr}'\n",
    "      \n",
    "slider.on_change('value', update_plot)"
   ]
  },
  {
   "cell_type": "markdown",
   "metadata": {},
   "source": [
    "### And finally, just some boilerplate code to wrap everything together..."
   ]
  },
  {
   "cell_type": "code",
   "execution_count": null,
   "metadata": {},
   "outputs": [],
   "source": [
    "from bokeh.layouts import widgetbox, column\n",
    "from bokeh.io import curdoc\n",
    "\n",
    "# Make a column layout of widgetbox(slider) and plot, and add it to the current document\n",
    "layout = column(p,widgetbox(slider))\n",
    "curdoc().add_root(layout)"
   ]
  },
  {
   "cell_type": "code",
   "execution_count": null,
   "metadata": {},
   "outputs": [],
   "source": [
    "show(layout)"
   ]
  },
  {
   "cell_type": "markdown",
   "metadata": {},
   "source": [
    "In the terminal, run:\n",
    "\n",
    "``bokeh serve --show interactive_climate_map_LESSON.ipynb``"
   ]
  },
  {
   "cell_type": "markdown",
   "metadata": {},
   "source": [
    "### Bonus / Follow-up:\n",
    "- Add a hover tool (so data is shown when the mouse hovers over a country)\n",
    "- Any other cool widgets you can think of?\n",
    "- Get more data up through 2019/2020.\n",
    "    - Any data source / API where you might be able to get this?\n",
    "- Create predictions through 2050, and add them to the visualization.\n",
    "- Why does the data load slowly, and how could we improve the speed?"
   ]
  },
  {
   "cell_type": "code",
   "execution_count": null,
   "metadata": {},
   "outputs": [],
   "source": []
  }
 ],
 "metadata": {
  "kernelspec": {
   "display_name": "Python 3",
   "language": "python",
   "name": "python3"
  },
  "language_info": {
   "codemirror_mode": {
    "name": "ipython",
    "version": 3
   },
   "file_extension": ".py",
   "mimetype": "text/x-python",
   "name": "python",
   "nbconvert_exporter": "python",
   "pygments_lexer": "ipython3",
   "version": "3.8.5"
  }
 },
 "nbformat": 4,
 "nbformat_minor": 4
}
