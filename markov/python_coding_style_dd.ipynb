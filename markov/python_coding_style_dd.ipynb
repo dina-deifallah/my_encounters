{
 "cells": [
  {
   "cell_type": "markdown",
   "id": "d25b0039",
   "metadata": {},
   "source": [
    "# Warm up"
   ]
  },
  {
   "cell_type": "markdown",
   "id": "821369da",
   "metadata": {},
   "source": [
    "## What does this code do ? identify problems with this working python code"
   ]
  },
  {
   "cell_type": "code",
   "execution_count": 1,
   "id": "a9d6f910",
   "metadata": {},
   "outputs": [
    {
     "name": "stdout",
     "output_type": "stream",
     "text": [
      "crashed after 70158 days of service\n"
     ]
    }
   ],
   "source": [
    "from random import *\n",
    "\n",
    "STATES = [\n",
    "'airport', 'air', 'crashed'\n",
    "]\n",
    "\n",
    "def mcmc(i, P):\n",
    "    list = [i]\n",
    "    s = i\n",
    "    while s!='crashed':\n",
    "        probs = P[s]\n",
    "        s = choices(STATES, probs) [0]\n",
    "        list.append(s)\n",
    "        if list[-1] == 'crashed':\n",
    "            return list\n",
    "\n",
    "P = {\n",
    "    'airport': [0.4, 0.6, 0.0],\n",
    "    'air': [0.8, 0.19999, 0.00001],\n",
    "}\n",
    "print(f\"crashed after {len(mcmc('airport', P))} days of service\")"
   ]
  },
  {
   "cell_type": "markdown",
   "id": "cae7735d",
   "metadata": {},
   "source": [
    "# Objectives"
   ]
  },
  {
   "cell_type": "markdown",
   "id": "8ddb7cff",
   "metadata": {},
   "source": [
    "1. What does clean and unclean code means ?\n",
    "2. Whats is PEP8 ?\n",
    "3. What does the pylint package do ?\n",
    "4. How to use pylint to clean up and improve code\n",
    "5. How can we configure pylint ?"
   ]
  },
  {
   "cell_type": "markdown",
   "id": "a2f9662a",
   "metadata": {
    "heading_collapsed": true
   },
   "source": [
    "## 1. What does clean and unclean code means ?\n"
   ]
  },
  {
   "cell_type": "markdown",
   "id": "c6ec1791",
   "metadata": {
    "hidden": true
   },
   "source": [
    "**unclean code**:\n",
    "\n",
    "- is difficult to understand and use, e.g. functions with too many arguments \n",
    "- has undescriptive and inconsistent naming\n",
    "- is undocumented/not well documented\n",
    "- has duplications in variables and/or functions\n",
    "- has functions that do several things\n",
    "- can 'break' quite easily \n",
    "\n",
    "\n",
    "\n",
    "**clean code**:\n",
    "- follows naming conventions\n",
    "- follows code style guidelines, e.g. PEP8 for python\n",
    "- is well documented\n",
    "- has no duplications\n",
    "- has functions that do one thing each\n",
    "- is easy to understand and use --> collaboration is made easy"
   ]
  },
  {
   "cell_type": "markdown",
   "id": "e74a3b2e",
   "metadata": {},
   "source": [
    "## 2. What is PEP8 ?"
   ]
  },
  {
   "cell_type": "markdown",
   "id": "d907d75a",
   "metadata": {},
   "source": [
    "[PEP 8 -- Style Guide for Python Code](https://www.python.org/dev/peps/pep-0008/)"
   ]
  },
  {
   "cell_type": "markdown",
   "id": "1a295264",
   "metadata": {},
   "source": [
    "## 3. What does the Pylint package do ?"
   ]
  },
  {
   "cell_type": "markdown",
   "id": "9408c827",
   "metadata": {},
   "source": [
    "[install pylint](https://pypi.org/project/pylint/)"
   ]
  },
  {
   "cell_type": "markdown",
   "id": "a29d54ae",
   "metadata": {},
   "source": [
    "## 4. How to use pylint to clean up and improve code ?"
   ]
  },
  {
   "cell_type": "markdown",
   "id": "6dbbe03c",
   "metadata": {},
   "source": [
    "### steps:\n",
    "\n",
    "1. save the above code in a python file mcmc.py\n",
    "2. open the terminal and check that the code is working\n",
    "3. install pylint package\n",
    "4. Run: *pylint mcmc.py*\n",
    "5. Observe the pylint generated code score \n",
    "6. Read pylint generated messages for hints on how to clean the code\n",
    "7. Implement code changes (on or two at a time) and repeat steps 4 to 6. Observe how the code score changes."
   ]
  },
  {
   "cell_type": "markdown",
   "id": "8c74e36c",
   "metadata": {},
   "source": [
    "## 5. How can you configure pylint ?"
   ]
  },
  {
   "cell_type": "markdown",
   "id": "b5e81e15",
   "metadata": {},
   "source": [
    "1. generate (in the same directory) the config file .pylintrc: *pylint --generate-rcfile > .pylintrc*\n",
    "2. open the .pylintrc: *nano .pylintrc*\n",
    "3. change the desired behavior by editing the appropriate variable inside the file. For example, we can igonore the code style warning generated due to trailing white spaces by adding *trailing-whitespace* to the *disable* variable in the .pylintrc file"
   ]
  },
  {
   "cell_type": "code",
   "execution_count": null,
   "id": "ccaebce0",
   "metadata": {},
   "outputs": [],
   "source": []
  }
 ],
 "metadata": {
  "kernelspec": {
   "display_name": "Python 3",
   "language": "python",
   "name": "python3"
  },
  "language_info": {
   "codemirror_mode": {
    "name": "ipython",
    "version": 3
   },
   "file_extension": ".py",
   "mimetype": "text/x-python",
   "name": "python",
   "nbconvert_exporter": "python",
   "pygments_lexer": "ipython3",
   "version": "3.8.8"
  }
 },
 "nbformat": 4,
 "nbformat_minor": 5
}
