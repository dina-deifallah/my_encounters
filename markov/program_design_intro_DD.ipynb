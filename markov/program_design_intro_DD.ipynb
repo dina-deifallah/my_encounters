{
 "cells": [
  {
   "cell_type": "markdown",
   "id": "25ab9a4d",
   "metadata": {},
   "source": [
    "# Objectives"
   ]
  },
  {
   "cell_type": "markdown",
   "id": "a5db4eba",
   "metadata": {},
   "source": [
    "1. What is **Program Design** ? Why do we need it ? What are the main categories of Program Design ? \n",
    "2. What are some of the tools in each category ? (**Requirements**, **Class Diagram** and **Skeleton Code**)\n",
    "3. Example: develop a python program to address the requirements of Pepper Academy"
   ]
  },
  {
   "cell_type": "markdown",
   "id": "e8b728f6",
   "metadata": {},
   "source": [
    "# Warm-up"
   ]
  },
  {
   "cell_type": "markdown",
   "id": "e8d51537",
   "metadata": {},
   "source": [
    "\n",
    "**Work in groups of 2. Read about the program design tools below and group them into one of the three categories: idea, design and coding**"
   ]
  },
  {
   "cell_type": "markdown",
   "id": "fbfaad2a",
   "metadata": {},
   "source": [
    "![](program_design.png)\n",
    " "
   ]
  },
  {
   "cell_type": "markdown",
   "id": "cb78f831",
   "metadata": {},
   "source": [
    "## A: "
   ]
  },
  {
   "cell_type": "markdown",
   "id": "931744a0",
   "metadata": {},
   "source": [
    "![](program_design_warmpup.png)"
   ]
  },
  {
   "cell_type": "markdown",
   "id": "272b9249",
   "metadata": {},
   "source": [
    "![](program_design_warmup.png)"
   ]
  },
  {
   "cell_type": "markdown",
   "id": "1c45c867",
   "metadata": {},
   "source": [
    "## 1. What is Program Design ? Why do we need it ?"
   ]
  },
  {
   "cell_type": "markdown",
   "id": "71a8ad81",
   "metadata": {},
   "source": [
    "- In programming, we want to go from an idea (an informal thought) to code (a precise formal language)\n",
    "- Conducting this process is what programming really is about, writing the commands is only the last bit\n",
    "- For a small program, writing code might be sufficient. In a large one, we need tools that support us\n",
    "- We can distinguish three categories of program design tools:\n",
    "\n",
    "1. **Idea** - tools that help us to write down the idea and communicate it with non-programmers and programmers\n",
    "\n",
    "2. **Design** - formalize the idea but keep it independent of the technology (e.g. languages or libraries)\n",
    "\n",
    "3. **Implementation/Coding Strategies** – things that directly result in code\n",
    "\n"
   ]
  },
  {
   "cell_type": "markdown",
   "id": "1352abfb",
   "metadata": {},
   "source": [
    "## 2. What are some of the tools in each category ?"
   ]
  },
  {
   "cell_type": "markdown",
   "id": "a1d97781",
   "metadata": {},
   "source": [
    "### 2.1 Requirements"
   ]
  },
  {
   "cell_type": "markdown",
   "id": "e02f21bd",
   "metadata": {},
   "source": [
    "**Requirements are detailed description of the following:**\n",
    "1. The needs of the users, a.k.a **User Requirements/Functional**\n",
    "2. What needs to be done technically and which programming methods to use to achieve that, a.k.a **System Requirements/Technical Requirements**\n",
    "3. Other constraints need to be taken into account, a.k.a **Non-functional Requirements**, such as OS, speed, load of requests ..etc."
   ]
  },
  {
   "cell_type": "markdown",
   "id": "8a614070",
   "metadata": {},
   "source": [
    "**Example Requirements for the Supermarket Simulation**\n",
    "\n",
    "**User Requirements:**\n",
    "\n",
    "1. As a user, I want multiple customers to visit locations in the supermarket.\n",
    "\n",
    "2. After running the simulation the output should be a CSV table similar to the initial customer data.\n",
    "\n",
    "3. I want to run the program many times to see how dense the different sections of the supermarket are over time, how many people go to the checkout etc.\n",
    "\n",
    "\n",
    "\n",
    "**System Requirements:**\n",
    "\n",
    "1. The customers should considered churned once they reach the checkout.\n",
    "\n",
    "2. A customer should be implemented in it’s own class\n",
    "\n",
    "3. The customers move to the next location based on a Monte Carlo Chain.\n",
    "\n",
    "4. The class Supermarket should manage multiple Customer objects that are currently in the market\n",
    "\n",
    "\n",
    "\n",
    "**Non-functional Requirements:**\n",
    "\n",
    "1. implementation is to be done in Python\n",
    "\n",
    "2. the program should run on a machine with at least 2 GB\n",
    "\n",
    "3. the program should run on all OS\n",
    "\n",
    "4. the code needs to be cleaned with pylint"
   ]
  },
  {
   "cell_type": "markdown",
   "id": "2c6102d7",
   "metadata": {},
   "source": [
    "### 2.2 UML Class Diagram"
   ]
  },
  {
   "cell_type": "markdown",
   "id": "7daa7c67",
   "metadata": {},
   "source": [
    "- **UML** stands for the **Unified Modelling Language**, which is a diagram type used in software engineering to visualise **Object Oriented** Systems\n",
    "- It shows classes, attributes and methods associated with them and their relationship to each other\n",
    "- [Class diagram tutorial](https://www.visual-paradigm.com/guide/uml-unified-modeling-language/uml-class-diagram-tutorial/)"
   ]
  },
  {
   "cell_type": "markdown",
   "id": "6ee8fcda",
   "metadata": {},
   "source": [
    "![](class_diagram.png)"
   ]
  },
  {
   "cell_type": "markdown",
   "id": "dd6f6e54",
   "metadata": {},
   "source": [
    "### 2.3 Skeleton Code"
   ]
  },
  {
   "cell_type": "markdown",
   "id": "ab4dbf75",
   "metadata": {},
   "source": [
    "**Skeleton Code** == Writing a program with classes and functions, but leaving all the function bodies empty"
   ]
  },
  {
   "cell_type": "markdown",
   "id": "9480727a",
   "metadata": {},
   "source": [
    "**Example skeleton code for the Supermarket Class**"
   ]
  },
  {
   "cell_type": "markdown",
   "id": "e7fbb8b1",
   "metadata": {},
   "source": [
    "class Supermarket:\n",
    "\n",
    "\n",
    " \"\"\"manages multiple Customer instances that are currently in the market\n",
    " \n",
    " \n",
    " \"\"\"\n",
    "\n",
    "\n",
    "\n",
    "   def \\_\\_init__(self):\n",
    "   \n",
    "\n",
    "   def get_time(  ):\n",
    "   \n",
    "   \n",
    "     \"\"\"current time in HH:MM format\n",
    "     \n",
    "     \"\"\"\n",
    "\n",
    "   def next_minute(  ):\n",
    "   \n",
    "   \n",
    "     \"\"\"propagates all customers to the next state\n",
    "     \n",
    "     \"\"\"\n"
   ]
  },
  {
   "cell_type": "markdown",
   "id": "efb0b8ba",
   "metadata": {},
   "source": [
    "## 3. Example: develop a python program to address the requirements of Pepper Academy"
   ]
  }
 ],
 "metadata": {
  "kernelspec": {
   "display_name": "Python 3",
   "language": "python",
   "name": "python3"
  },
  "language_info": {
   "codemirror_mode": {
    "name": "ipython",
    "version": 3
   },
   "file_extension": ".py",
   "mimetype": "text/x-python",
   "name": "python",
   "nbconvert_exporter": "python",
   "pygments_lexer": "ipython3",
   "version": "3.8.8"
  }
 },
 "nbformat": 4,
 "nbformat_minor": 5
}
