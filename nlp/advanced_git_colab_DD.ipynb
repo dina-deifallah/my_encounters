{
 "cells": [
  {
   "cell_type": "markdown",
   "id": "44b1db42",
   "metadata": {},
   "source": [
    "# Objectives"
   ]
  },
  {
   "cell_type": "markdown",
   "id": "5ad13c9a",
   "metadata": {},
   "source": [
    "1. Recap git/github commonly used commands\n",
    "2. Graphing git history/working tree\n",
    "3. git fetch\n",
    "4. Branching, Fast-forward and Three-way merging\n",
    "5. Conflict resolution on merging\n",
    "6. Deleting merged branches\n"
   ]
  },
  {
   "cell_type": "markdown",
   "id": "79244048",
   "metadata": {},
   "source": [
    "# Warm-up"
   ]
  },
  {
   "cell_type": "markdown",
   "id": "ce5764d4",
   "metadata": {},
   "source": [
    "- individually, go to your **OWN** GitHub account\n",
    "- create a new public repo, optionally call it *git_collaboration*\n",
    "- clone the remote repo created locally on your machine"
   ]
  },
  {
   "cell_type": "markdown",
   "id": "e333cc1a",
   "metadata": {},
   "source": [
    "## 1. Recap: Create a new repo on GitHub and clone locally"
   ]
  },
  {
   "cell_type": "markdown",
   "id": "85ab2d60",
   "metadata": {},
   "source": [
    "*git clone \\<https link from GitHub\\>*"
   ]
  },
  {
   "cell_type": "markdown",
   "id": "9a058a50",
   "metadata": {},
   "source": [
    "### we can check local configurations settings as follows\n",
    "\n",
    "*git config --list*"
   ]
  },
  {
   "cell_type": "markdown",
   "id": "0b3ffbde",
   "metadata": {},
   "source": [
    "### we can ensure our remote is pointing to the correct repo as follows\n",
    "\n",
    "*git remote -v*"
   ]
  },
  {
   "cell_type": "markdown",
   "id": "aaa8d31d",
   "metadata": {},
   "source": [
    "### we can check our status and any commits (at this point only the initial commit) as follows\n",
    "\n",
    "*git status*\n",
    "\n",
    "\n",
    "*git log*"
   ]
  },
  {
   "cell_type": "markdown",
   "id": "ea132db8",
   "metadata": {},
   "source": [
    "## 2. Graphing git history/working tree"
   ]
  },
  {
   "cell_type": "markdown",
   "id": "92144c01",
   "metadata": {},
   "source": [
    "*git log --all --decorate --oneline --graph*\n"
   ]
  },
  {
   "cell_type": "markdown",
   "id": "b47a4801",
   "metadata": {},
   "source": [
    "### since we will use this frequently, let's alias it \n",
    "\n",
    "*alias graph=\"git log --all --decorate --oneline --graph\"*"
   ]
  },
  {
   "cell_type": "markdown",
   "id": "71b062a5",
   "metadata": {},
   "source": [
    "## 3. git fetch"
   ]
  },
  {
   "cell_type": "markdown",
   "id": "214f09f7",
   "metadata": {},
   "source": [
    "- let's go to the remote repo (also called origin) on GitHub\n",
    "- Create a new file file_1.py\n",
    "- add some lines\n",
    "- commit"
   ]
  },
  {
   "cell_type": "markdown",
   "id": "b89da1f7",
   "metadata": {},
   "source": [
    "### file_1.py \n",
    "\n",
    "var1 = 10\n",
    "\n",
    "var2 = 20\n",
    "\n",
    "print(\"the result is = {}\".format(var1+var2)"
   ]
  },
  {
   "cell_type": "markdown",
   "id": "f8e5e7d6",
   "metadata": {},
   "source": [
    "### locally, can we see the commit ?\n",
    "\n",
    "*git status*"
   ]
  },
  {
   "cell_type": "markdown",
   "id": "ab1aff83",
   "metadata": {},
   "source": [
    "### to see the change, run the following\n",
    "\n",
    "*git fetch origin*"
   ]
  },
  {
   "cell_type": "markdown",
   "id": "b5ecb259",
   "metadata": {},
   "source": [
    "### Now that we see the changes, how can we merge them to main ?\n",
    "\n",
    "**option 1**\n",
    "\n",
    "*git pull origin main*\n",
    "\n",
    "**option 2**\n",
    "\n",
    "*git merge origin/main*"
   ]
  },
  {
   "cell_type": "markdown",
   "id": "fac77b8a",
   "metadata": {},
   "source": [
    "### Remember:\n",
    "\n",
    "git pull <== combines git fetch and git merge"
   ]
  },
  {
   "cell_type": "markdown",
   "id": "b38367bc",
   "metadata": {},
   "source": [
    "## 4. Branching, Fast-forward and Three-way merging"
   ]
  },
  {
   "cell_type": "code",
   "execution_count": null,
   "id": "30e86915",
   "metadata": {},
   "outputs": [],
   "source": []
  },
  {
   "cell_type": "markdown",
   "id": "0d3b6fde",
   "metadata": {},
   "source": [
    "### 4.1 Branching"
   ]
  },
  {
   "cell_type": "markdown",
   "id": "36dae8f5",
   "metadata": {},
   "source": [
    "### let's create a branch called dev1\n",
    "\n",
    "*git branch dev1*"
   ]
  },
  {
   "cell_type": "markdown",
   "id": "09d997c1",
   "metadata": {},
   "source": [
    "### we switch to the dev1 branch as follows:\n",
    "\n",
    "*git checkout dev1*"
   ]
  },
  {
   "cell_type": "markdown",
   "id": "cddff23c",
   "metadata": {},
   "source": [
    "### let's add a new file file_2.py"
   ]
  },
  {
   "cell_type": "markdown",
   "id": "24680801",
   "metadata": {},
   "source": [
    "### file_2.py\n",
    "\n",
    "import pandas as pd"
   ]
  },
  {
   "cell_type": "markdown",
   "id": "27c20726",
   "metadata": {},
   "source": [
    "### let's add and commit the new file to dev1 \n",
    "\n",
    "*git add .; git commit -m \"creating file_2.py\"*"
   ]
  },
  {
   "cell_type": "markdown",
   "id": "d4bccd29",
   "metadata": {},
   "source": [
    "### let's switch back to main and check our status and graph\n",
    "\n",
    "*git checkout main*\n",
    "\n",
    "\n",
    "*graph*"
   ]
  },
  {
   "cell_type": "markdown",
   "id": "9b054409",
   "metadata": {},
   "source": [
    "### we can push the new branch to the remote repo\n",
    "\n",
    "*git push origin dev1*"
   ]
  },
  {
   "cell_type": "markdown",
   "id": "9d37fe50",
   "metadata": {},
   "source": [
    "### 4.2 Fast-Forward Merging"
   ]
  },
  {
   "cell_type": "markdown",
   "id": "891619a7",
   "metadata": {},
   "source": [
    "### to check what will change after the merge before doing it run the following\n",
    "\n",
    "*git diff main..dev1*"
   ]
  },
  {
   "cell_type": "markdown",
   "id": "713feade",
   "metadata": {},
   "source": [
    "### after that check, let's merge dev1 to main\n",
    "\n",
    "*git merge dev1*\n",
    "\n",
    "### to get out of the message prompt press :wqa!"
   ]
  },
  {
   "cell_type": "markdown",
   "id": "73c21f2c",
   "metadata": {},
   "source": [
    "### 4.3 Three-way Merging"
   ]
  },
  {
   "cell_type": "markdown",
   "id": "64fd15a0",
   "metadata": {},
   "source": [
    "### let's create a new branch called dev2 and switch to it\n",
    "\n",
    "*git branch dev2*\n",
    "\n",
    "\n",
    "*git checkout dev2*"
   ]
  },
  {
   "cell_type": "markdown",
   "id": "3dd28488",
   "metadata": {},
   "source": [
    "### let's modify file_2.py and commit the changes\n",
    "\n",
    "*nano file_3.py*"
   ]
  },
  {
   "cell_type": "markdown",
   "id": "6cd26d6c",
   "metadata": {},
   "source": [
    "### file_2.py\n",
    "\n",
    "import pandas as pd\n",
    "\n",
    "**import seaborn as sns**"
   ]
  },
  {
   "cell_type": "markdown",
   "id": "ec8ff87a",
   "metadata": {},
   "source": [
    "### we can add changes in a tracked file and commit them in the same command!\n",
    "\n",
    "*git commit -a -m \"adding seaborn import to file_2.py\"*"
   ]
  },
  {
   "cell_type": "markdown",
   "id": "6ac543ea",
   "metadata": {},
   "source": [
    "### let's switch back to the main and do another modification to file_2.py\n",
    "\n",
    "*git checkout main*\n",
    "\n",
    "\n",
    "*nano file_3.py*"
   ]
  },
  {
   "cell_type": "markdown",
   "id": "0ed35b7e",
   "metadata": {},
   "source": [
    "### file_2.py\n",
    "\n",
    "\n",
    "**import re**\n",
    "\n",
    "\n",
    "import pandas as pd"
   ]
  },
  {
   "cell_type": "markdown",
   "id": "7936bf7e",
   "metadata": {},
   "source": [
    "### commit changes to the main\n",
    "\n",
    "*git commit -a -m \"adding re import to file_2.py\"*"
   ]
  },
  {
   "cell_type": "markdown",
   "id": "01a35f6c",
   "metadata": {},
   "source": [
    "### let's try to merge\n",
    "\n",
    "*graph*\n",
    "\n",
    "\n",
    "*git diff main..dev2*\n",
    "\n",
    "\n",
    "*git merge dev2*"
   ]
  },
  {
   "cell_type": "markdown",
   "id": "35399297",
   "metadata": {},
   "source": [
    "## 5. Conflict Resolution on Merging"
   ]
  },
  {
   "cell_type": "markdown",
   "id": "19da7a8d",
   "metadata": {},
   "source": [
    "### manually fix the file_2.py"
   ]
  },
  {
   "cell_type": "markdown",
   "id": "c840a8c6",
   "metadata": {},
   "source": [
    "### add and commit \n",
    "\n",
    "*git commit -a -m \"resolving conflict in file_2.py\"*"
   ]
  },
  {
   "cell_type": "markdown",
   "id": "76365fa7",
   "metadata": {},
   "source": [
    "## 6. Deleting merged branches"
   ]
  },
  {
   "cell_type": "markdown",
   "id": "2d22e6f3",
   "metadata": {},
   "source": [
    "### to check which branches are already merged into main\n",
    "\n",
    "*git branch --merged*"
   ]
  },
  {
   "cell_type": "markdown",
   "id": "c463fc7f",
   "metadata": {},
   "source": [
    "### to delete merged branches locally\n",
    "\n",
    "*git branch -d dev1*\n",
    "\n",
    "*git branch -d dev2*"
   ]
  },
  {
   "cell_type": "code",
   "execution_count": null,
   "id": "093deeb0",
   "metadata": {},
   "outputs": [],
   "source": []
  }
 ],
 "metadata": {
  "kernelspec": {
   "display_name": "Python 3",
   "language": "python",
   "name": "python3"
  },
  "language_info": {
   "codemirror_mode": {
    "name": "ipython",
    "version": 3
   },
   "file_extension": ".py",
   "mimetype": "text/x-python",
   "name": "python",
   "nbconvert_exporter": "python",
   "pygments_lexer": "ipython3",
   "version": "3.8.8"
  }
 },
 "nbformat": 4,
 "nbformat_minor": 5
}
