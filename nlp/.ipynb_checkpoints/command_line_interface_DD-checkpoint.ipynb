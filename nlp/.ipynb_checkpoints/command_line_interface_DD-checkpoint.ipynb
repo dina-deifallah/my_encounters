{
 "cells": [
  {
   "cell_type": "markdown",
   "id": "fbb9a8f3",
   "metadata": {},
   "source": [
    "# Objectives"
   ]
  },
  {
   "cell_type": "markdown",
   "id": "158f3868",
   "metadata": {},
   "source": [
    "1. What is a Command Line Interface ?  \n",
    "2. How can we build a CLI for a program (eg. Lyrics Classifier) ?\n",
    "\n",
    "    - **Option 1:** input()\n",
    "    - **Option 2:** sys.argv\n",
    "    - **Option 3:** argparse"
   ]
  },
  {
   "cell_type": "markdown",
   "id": "8e7aacc4",
   "metadata": {},
   "source": [
    "# Warm up"
   ]
  },
  {
   "cell_type": "markdown",
   "id": "7ef59426",
   "metadata": {},
   "source": [
    "- write a hello world program that uses two variables: a string/name and an age/number in Jupyter\n",
    "- the program should print out ==> **\"my name is {name} and I am {age} years old.\"**\n",
    "- export code from the notebook to a `.py` file\n",
    "- open the file in an editor, remove any lines we do not need\n",
    "- run the program from the terminal\n"
   ]
  },
  {
   "cell_type": "markdown",
   "id": "2924004d",
   "metadata": {},
   "source": [
    "## 1. What is a Command Line Interface (CLI) ?\n"
   ]
  },
  {
   "cell_type": "markdown",
   "id": "55e4e41b",
   "metadata": {},
   "source": [
    "- CLI is a command line program that accepts text input to execute operating system functions.\n",
    "\n",
    "- In the 1960s this was the only way to interact with computers.\n",
    "\n",
    "- In the 1970s an 1980s, command line input was commonly used by Unix systems and PC systems like MS-DOS and Apple DOS.\n",
    "\n",
    "- Today, with graphical user interfaces (GUI), most users never use command-line interfaces (CLI).\n",
    "\n",
    "- However, CLI is still used by software developers and system administrators to configure computers, install software, and access features that are not available in the graphical interface"
   ]
  },
  {
   "cell_type": "markdown",
   "id": "783a66d0",
   "metadata": {},
   "source": [
    "### Can you think of an example program that we mainly use the CLI to interact with ?"
   ]
  },
  {
   "cell_type": "markdown",
   "id": "ae487c0d",
   "metadata": {},
   "source": [
    "## 2. How can we build a CLI for a program (eg. Lyrics Classifier) ?\n",
    "\n"
   ]
  },
  {
   "cell_type": "markdown",
   "id": "334722c7",
   "metadata": {},
   "source": [
    "### Option 1: use the input function"
   ]
  },
  {
   "cell_type": "markdown",
   "id": "28353e7e",
   "metadata": {},
   "source": [
    "### Option 2: use sys.argv"
   ]
  },
  {
   "cell_type": "code",
   "execution_count": null,
   "id": "d5ac6335",
   "metadata": {},
   "outputs": [],
   "source": []
  }
 ],
 "metadata": {
  "kernelspec": {
   "display_name": "Python 3",
   "language": "python",
   "name": "python3"
  },
  "language_info": {
   "codemirror_mode": {
    "name": "ipython",
    "version": 3
   },
   "file_extension": ".py",
   "mimetype": "text/x-python",
   "name": "python",
   "nbconvert_exporter": "python",
   "pygments_lexer": "ipython3",
   "version": "3.8.8"
  }
 },
 "nbformat": 4,
 "nbformat_minor": 5
}
