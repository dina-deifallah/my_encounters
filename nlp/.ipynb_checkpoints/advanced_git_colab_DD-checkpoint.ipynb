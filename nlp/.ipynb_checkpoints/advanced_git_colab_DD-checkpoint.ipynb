{
 "cells": [
  {
   "cell_type": "markdown",
   "id": "7ec889d0",
   "metadata": {},
   "source": [
    "# Objectives"
   ]
  },
  {
   "cell_type": "markdown",
   "id": "f2e7150d",
   "metadata": {},
   "source": [
    "1. Recap git/github commonly used commands\n",
    "2. Graphing git history/working tree\n",
    "3. git fetch\n",
    "4. Branching, Fast-forward and Three-way merging\n",
    "5. Conflict resolution on merging\n",
    "6. Deleting merged branches"
   ]
  },
  {
   "cell_type": "markdown",
   "id": "07b482ee",
   "metadata": {},
   "source": [
    "# Warm-up"
   ]
  },
  {
   "cell_type": "markdown",
   "id": "974f2c64",
   "metadata": {},
   "source": [
    "- individually, go to your **OWN** GitHub account\n",
    "- create a new public repo, optionally call it *git_collaboration*\n",
    "- clone the remote repo created locally on your machine"
   ]
  },
  {
   "cell_type": "markdown",
   "id": "2c218aed",
   "metadata": {},
   "source": [
    "## 1. Recap: Create a new repo on GitHub and clone locally"
   ]
  },
  {
   "cell_type": "markdown",
   "id": "6a918523",
   "metadata": {},
   "source": [
    "*git clone \\<https link from GitHub\\>*"
   ]
  },
  {
   "cell_type": "markdown",
   "id": "5a5fecfc",
   "metadata": {},
   "source": [
    "### we can check local configurations settings as follows\n",
    "\n",
    "*git config --list*"
   ]
  },
  {
   "cell_type": "markdown",
   "id": "4b895771",
   "metadata": {},
   "source": [
    "### we can ensure our remote is pointing to the correct repo as follows\n",
    "\n",
    "*git remote -v*"
   ]
  },
  {
   "cell_type": "markdown",
   "id": "eba9c21e",
   "metadata": {},
   "source": [
    "### we can check our status and any commits (at this point only the initial commit) as follows\n",
    "\n",
    "*git status*\n",
    "*git log*"
   ]
  },
  {
   "cell_type": "markdown",
   "id": "66757c60",
   "metadata": {},
   "source": [
    "## 2. Graphing git history/working tree"
   ]
  },
  {
   "cell_type": "markdown",
   "id": "f2bde50d",
   "metadata": {},
   "source": [
    "*git log --all --decorate --oneline --graph*\n"
   ]
  },
  {
   "cell_type": "markdown",
   "id": "5c263650",
   "metadata": {},
   "source": [
    "### since we will use this frequently, let's alias it \n",
    "\n",
    "*alias graph=\"git log --all --decorate --oneline --graph\"*"
   ]
  },
  {
   "cell_type": "markdown",
   "id": "5b7fa848",
   "metadata": {},
   "source": [
    "## 3. git fetch"
   ]
  },
  {
   "cell_type": "markdown",
   "id": "1809b73b",
   "metadata": {},
   "source": [
    "- let's go to the remote repo (also called origin) on GitHub\n",
    "- Create a new file file_1.py\n",
    "- add some lines\n",
    "- commit"
   ]
  },
  {
   "cell_type": "markdown",
   "id": "39928c1d",
   "metadata": {},
   "source": [
    "### file_1.py \n",
    "\n",
    "var1 = 10\n",
    "\n",
    "var2 = 20\n",
    "\n",
    "print(\"the result is = {}\".format(var1+var2)"
   ]
  },
  {
   "cell_type": "markdown",
   "id": "22e5d0fc",
   "metadata": {},
   "source": [
    "### locally, can we see the commit ?\n",
    "\n",
    "*git status*"
   ]
  },
  {
   "cell_type": "markdown",
   "id": "26f56748",
   "metadata": {},
   "source": [
    "### to see the change, run the following\n",
    "\n",
    "*git fetch origin*"
   ]
  },
  {
   "cell_type": "markdown",
   "id": "99324df7",
   "metadata": {},
   "source": [
    "### Now that we see the changes, how can we merge them to main ?\n",
    "\n",
    "**option 1**\n",
    "\n",
    "*git pull origin main*\n",
    "\n",
    "**option 2**\n",
    "\n",
    "*git merge origin/main*"
   ]
  },
  {
   "cell_type": "markdown",
   "id": "d5ca1d41",
   "metadata": {},
   "source": [
    "### Remember:\n",
    "\n",
    "git pull <== combines git fetch and git merge"
   ]
  },
  {
   "cell_type": "markdown",
   "id": "b5e9b081",
   "metadata": {},
   "source": [
    "## 4. Branching, Fast-forward and Three-way merging"
   ]
  },
  {
   "cell_type": "markdown",
   "id": "5eaf7b8c",
   "metadata": {},
   "source": [
    "### 4.1 Branching"
   ]
  },
  {
   "cell_type": "markdown",
   "id": "4ddbac33",
   "metadata": {},
   "source": [
    "### let's create a branch called dev1\n",
    "\n",
    "*git branch dev1*"
   ]
  },
  {
   "cell_type": "markdown",
   "id": "0b8a57e8",
   "metadata": {},
   "source": [
    "### we switch to the dev1 branch as follows:\n",
    "\n",
    "*git checkout dev1*"
   ]
  },
  {
   "cell_type": "markdown",
   "id": "e354a879",
   "metadata": {},
   "source": [
    "### let's add a new file file_2.py"
   ]
  },
  {
   "cell_type": "markdown",
   "id": "217e25ac",
   "metadata": {},
   "source": [
    "### file_2.py\n",
    "\n",
    "import pandas as pd"
   ]
  },
  {
   "cell_type": "markdown",
   "id": "de938829",
   "metadata": {},
   "source": [
    "### let's add and commit the new file to dev1 \n",
    "\n",
    "*git add .; git commit -m \"creating file_2.py\"*"
   ]
  },
  {
   "cell_type": "markdown",
   "id": "bfdcb27c",
   "metadata": {},
   "source": [
    "### let's switch back to main and check our status and graph\n",
    "\n",
    "*git checkout main*\n",
    "\n",
    "\n",
    "*graph*"
   ]
  },
  {
   "cell_type": "markdown",
   "id": "416a66ab",
   "metadata": {},
   "source": [
    "### we can push the new branch to the remote repo\n",
    "\n",
    "*git push origin dev1*"
   ]
  },
  {
   "cell_type": "markdown",
   "id": "5d8f9796",
   "metadata": {},
   "source": [
    "### 4.2 Fast-Forward Merging"
   ]
  },
  {
   "cell_type": "markdown",
   "id": "2b8e7b62",
   "metadata": {},
   "source": [
    "### to check what will change after the merge before doing it run the following\n",
    "\n",
    "*git diff main..dev1*"
   ]
  },
  {
   "cell_type": "markdown",
   "id": "a6b8130d",
   "metadata": {},
   "source": [
    "### after that check, let's merge dev1 to main\n",
    "\n",
    "*git merge dev1*\n",
    "\n",
    "### to get out of the message prompt press :wqa!"
   ]
  },
  {
   "cell_type": "markdown",
   "id": "212a2aec",
   "metadata": {},
   "source": [
    "### 4.3 Three-way Merging"
   ]
  },
  {
   "cell_type": "markdown",
   "id": "16c4eaaf",
   "metadata": {},
   "source": [
    "### let's create a new branch called dev2 and switch to it\n",
    "\n",
    "*git branch dev2*\n",
    "\n",
    "\n",
    "*git checkout dev2*"
   ]
  },
  {
   "cell_type": "markdown",
   "id": "cc386e07",
   "metadata": {},
   "source": [
    "### let's modify file_2.py and commit the changes\n",
    "\n",
    "*nano file_3.py*"
   ]
  },
  {
   "cell_type": "markdown",
   "id": "834e5c22",
   "metadata": {},
   "source": [
    "### file_2.py\n",
    "\n",
    "import pandas as pd\n",
    "\n",
    "**import seaborn as sns**"
   ]
  },
  {
   "cell_type": "markdown",
   "id": "f4823bb1",
   "metadata": {},
   "source": [
    "### we can add changes in a tracked file and commit them in the same command!\n",
    "\n",
    "*git commit -a -m \"adding seaborn import to file_2.py\"*"
   ]
  },
  {
   "cell_type": "markdown",
   "id": "63769d6c",
   "metadata": {},
   "source": [
    "### let's switch back to the main and do another modification to file_2.py\n",
    "\n",
    "*git checkout main*\n",
    "\n",
    "\n",
    "*nano file_3.py*"
   ]
  },
  {
   "cell_type": "markdown",
   "id": "8b7f6051",
   "metadata": {},
   "source": [
    "### file_2.py\n",
    "\n",
    "\n",
    "**import re**\n",
    "\n",
    "\n",
    "import pandas as pd"
   ]
  },
  {
   "cell_type": "markdown",
   "id": "9137efdf",
   "metadata": {},
   "source": [
    "### commit changes to the main\n",
    "\n",
    "*git commit -a -m \"adding re import to file_2.py\"*"
   ]
  },
  {
   "cell_type": "markdown",
   "id": "39fc37b1",
   "metadata": {},
   "source": [
    "### let's try to merge\n",
    "\n",
    "*graph*\n",
    "\n",
    "\n",
    "*git diff main..dev2*\n",
    "\n",
    "\n",
    "*git merge dev2*"
   ]
  },
  {
   "cell_type": "code",
   "execution_count": null,
   "id": "949aa95d",
   "metadata": {},
   "outputs": [],
   "source": []
  }
 ],
 "metadata": {
  "kernelspec": {
   "display_name": "Python 3",
   "language": "python",
   "name": "python3"
  },
  "language_info": {
   "codemirror_mode": {
    "name": "ipython",
    "version": 3
   },
   "file_extension": ".py",
   "mimetype": "text/x-python",
   "name": "python",
   "nbconvert_exporter": "python",
   "pygments_lexer": "ipython3",
   "version": "3.8.8"
  }
 },
 "nbformat": 4,
 "nbformat_minor": 5
}
