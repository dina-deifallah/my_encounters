{
 "cells": [
  {
   "cell_type": "code",
   "execution_count": 2,
   "id": "34eb4d8e",
   "metadata": {},
   "outputs": [],
   "source": [
    "import sqlalchemy\n",
    "import psycopg2\n",
    "import pandas as pd\n",
    "from sqlalchemy import create_engine"
   ]
  },
  {
   "cell_type": "code",
   "execution_count": 9,
   "id": "4f77b885",
   "metadata": {},
   "outputs": [],
   "source": [
    "uri = f'postgresql://localhost/examples'"
   ]
  },
  {
   "cell_type": "code",
   "execution_count": 12,
   "id": "ce609b80",
   "metadata": {},
   "outputs": [],
   "source": [
    "engine = create_engine(uri, echo=False)"
   ]
  },
  {
   "cell_type": "code",
   "execution_count": 13,
   "id": "3f9a7df6",
   "metadata": {},
   "outputs": [
    {
     "name": "stdout",
     "output_type": "stream",
     "text": [
      "      country  population  fertility      continent\n",
      "0  Bangladesh       161.0       2.12           Asia\n",
      "1      Brazil       208.0       1.78  South America\n",
      "2       China      1376.0       1.57           Asia\n",
      "3       India      1311.0       2.43           Asia\n",
      "4   Indonesia       258.0       2.28           Asia\n"
     ]
    }
   ],
   "source": [
    "query = \"SELECT * FROM countries;\"\n",
    "\n",
    "df = pd.read_sql(query, engine)\n",
    "print(df.head())"
   ]
  },
  {
   "cell_type": "code",
   "execution_count": 14,
   "id": "fa0ef5b1",
   "metadata": {},
   "outputs": [],
   "source": [
    "df.to_csv(\"countries_2.csv\")"
   ]
  },
  {
   "cell_type": "code",
   "execution_count": 15,
   "id": "94c843b4",
   "metadata": {},
   "outputs": [],
   "source": [
    "df = pd.read_csv(\"countries_2.csv\")\n",
    "df.to_sql('countries_2', engine, method='multi', chunksize=1000)"
   ]
  },
  {
   "cell_type": "code",
   "execution_count": null,
   "id": "11c606f1",
   "metadata": {},
   "outputs": [],
   "source": []
  }
 ],
 "metadata": {
  "kernelspec": {
   "display_name": "Python 3",
   "language": "python",
   "name": "python3"
  },
  "language_info": {
   "codemirror_mode": {
    "name": "ipython",
    "version": 3
   },
   "file_extension": ".py",
   "mimetype": "text/x-python",
   "name": "python",
   "nbconvert_exporter": "python",
   "pygments_lexer": "ipython3",
   "version": "3.8.8"
  }
 },
 "nbformat": 4,
 "nbformat_minor": 5
}
