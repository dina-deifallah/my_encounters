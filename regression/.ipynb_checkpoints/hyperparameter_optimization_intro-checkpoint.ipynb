{
 "cells": [
  {
   "cell_type": "markdown",
   "id": "28ad1b8c",
   "metadata": {},
   "source": [
    "# Objectives"
   ]
  },
  {
   "cell_type": "markdown",
   "id": "2f24b8be",
   "metadata": {},
   "source": [
    "1. What are Hyperparameters ? Why is Hyperparameter Tuning important ?\n",
    "2. What is k-fold Cross-validation ? \n",
    "3. What is Grid Search Tuning ? What are its limitations ?\n",
    "4. What is Randomized Search Tuning ? When should it be used ?\n",
    "5. Run and example on a make moons dataset from sklearn"
   ]
  },
  {
   "cell_type": "markdown",
   "id": "f369d418",
   "metadata": {},
   "source": [
    "# Warm-up"
   ]
  },
  {
   "cell_type": "markdown",
   "id": "95480a55",
   "metadata": {},
   "source": [
    "**In groups of 2-3, run a quick research on Hyperparameters and try to answer the following:**\n",
    "\n",
    "1. What is the importance of the Hyperparameter Tuning step in the ML workflow ?\n",
    "2. Name 5 different hyperparameters for each of the ML algorithms you already know (Logistic Regression, Random Forest and Linear Regression)"
   ]
  },
  {
   "cell_type": "markdown",
   "id": "54b87dc3",
   "metadata": {},
   "source": [
    "## A"
   ]
  },
  {
   "cell_type": "markdown",
   "id": "7eb4031e",
   "metadata": {},
   "source": []
  },
  {
   "cell_type": "markdown",
   "id": "59f6c7f3",
   "metadata": {},
   "source": [
    "## 1. What are Hyperparameters ?"
   ]
  },
  {
   "cell_type": "markdown",
   "id": "841b3a5a",
   "metadata": {},
   "source": [
    "**Hyperparameters are:**\n",
    "\n",
    "1. A variable that controls some aspect of the training process of a ML algorithm\n",
    "2. The value of a hyperparameter is **NOT** learned by the ML algorithm during training\n",
    "3. The value of the hyperparameter is set by the ML parctitioner\n",
    "4. All ML algorithms available have some hyperparameters, some more than others. They come with default values for their hyperparameters.\n",
    "5. The best set of values for an ML algorithm is **problem/data-dependent** and is obtained using a hyperparameter tunung method.\n",
    "6. Tuning hyperparameters will probably result in a better model that is not overfitted and generalizes well to unseen data.\n"
   ]
  },
  {
   "cell_type": "markdown",
   "id": "f77a98df",
   "metadata": {},
   "source": [
    "### Let's build some dataset for illustration"
   ]
  },
  {
   "cell_type": "code",
   "execution_count": 14,
   "id": "94c13e8c",
   "metadata": {},
   "outputs": [],
   "source": [
    "from sklearn.datasets import make_moons\n",
    "import pandas as pd\n",
    "import matplotlib.pyplot as plt\n",
    "import seaborn as sns"
   ]
  },
  {
   "cell_type": "code",
   "execution_count": 3,
   "id": "3a14b662",
   "metadata": {},
   "outputs": [],
   "source": [
    "X, y = make_moons(n_samples=200, noise=0.3)"
   ]
  },
  {
   "cell_type": "code",
   "execution_count": 5,
   "id": "302464a8",
   "metadata": {},
   "outputs": [
    {
     "data": {
      "text/plain": [
       "((200, 2), (200,))"
      ]
     },
     "execution_count": 5,
     "metadata": {},
     "output_type": "execute_result"
    }
   ],
   "source": [
    "X.shape, y.shape"
   ]
  },
  {
   "cell_type": "code",
   "execution_count": 7,
   "id": "b5434033",
   "metadata": {},
   "outputs": [
    {
     "data": {
      "text/plain": [
       "array([[ 0.16901128,  0.87245257],\n",
       "       [ 0.3476677 ,  0.38924707],\n",
       "       [ 0.50236897, -0.07913551],\n",
       "       [-0.09402164, -0.13747783],\n",
       "       [ 0.06907681,  0.78932572],\n",
       "       [-0.3534675 ,  0.6400013 ],\n",
       "       [ 0.3650762 , -0.56179736],\n",
       "       [ 0.58294751,  0.15267654],\n",
       "       [ 0.18002648,  0.36240677],\n",
       "       [ 0.7068249 ,  0.37975883],\n",
       "       [ 0.16276317,  0.59402864],\n",
       "       [ 0.15188168,  1.0047581 ],\n",
       "       [ 1.43197681,  0.74712243],\n",
       "       [ 0.38983453,  0.39422155],\n",
       "       [ 1.57286527, -0.60515075],\n",
       "       [ 0.19454108, -0.15805593],\n",
       "       [ 0.81211712, -0.48884233],\n",
       "       [ 1.16346718, -0.1579455 ],\n",
       "       [-0.32043081,  0.4005969 ],\n",
       "       [ 1.59373553, -0.24381099],\n",
       "       [ 0.29738432, -0.16170255],\n",
       "       [ 0.63325841,  0.06620239],\n",
       "       [-0.72493462,  1.39451279],\n",
       "       [ 0.70591269, -0.21889543],\n",
       "       [ 1.0956453 , -0.48075059],\n",
       "       [-0.18506951,  0.94983921],\n",
       "       [ 0.91897191, -0.17936641],\n",
       "       [ 2.26425636,  0.02085918],\n",
       "       [ 0.47164413,  0.09516177],\n",
       "       [-0.89347727, -0.38795471],\n",
       "       [ 0.61690377,  0.74035364],\n",
       "       [ 1.23364515, -0.64417564],\n",
       "       [ 0.3695981 ,  0.9655826 ],\n",
       "       [ 2.1379393 , -0.27579293],\n",
       "       [ 1.8404289 , -0.73954358],\n",
       "       [ 0.16582718,  0.15832263],\n",
       "       [ 1.3640777 , -0.61221114],\n",
       "       [ 0.44221603,  1.23655969],\n",
       "       [-1.04018179,  0.89597841],\n",
       "       [-0.01729109,  0.41214967],\n",
       "       [ 0.50325985,  0.46249369],\n",
       "       [ 0.89762759, -1.13377988],\n",
       "       [ 1.03167442, -0.44117304],\n",
       "       [ 0.43314831, -0.18826511],\n",
       "       [ 1.20545747, -0.32090782],\n",
       "       [-0.79386138,  0.32268229],\n",
       "       [ 0.57564149, -0.7119206 ],\n",
       "       [ 0.99090584,  0.55239222],\n",
       "       [ 0.21255204, -0.17315641],\n",
       "       [-1.3651584 ,  0.14398907],\n",
       "       [-0.76288289,  0.22693118],\n",
       "       [-0.6452815 ,  1.15384209],\n",
       "       [ 1.88873683, -0.09622438],\n",
       "       [ 0.52934629,  1.21004783],\n",
       "       [ 0.57376085, -0.30891911],\n",
       "       [ 0.12781877,  0.38095881],\n",
       "       [ 0.81677988, -0.60953609],\n",
       "       [ 0.22450142,  0.29284251],\n",
       "       [-0.98336636,  1.1263749 ],\n",
       "       [ 0.38606879,  0.01232852],\n",
       "       [-0.13560659,  0.22791855],\n",
       "       [ 0.2106437 ,  1.11867099],\n",
       "       [ 0.78767305,  0.4917535 ],\n",
       "       [ 1.51499892,  0.26527952],\n",
       "       [-0.85136644,  0.8879332 ],\n",
       "       [ 2.09759719,  0.75086628],\n",
       "       [ 0.55592542, -0.38011199],\n",
       "       [ 1.42788957, -0.43284372],\n",
       "       [ 0.58339274,  0.705075  ],\n",
       "       [ 1.9609415 ,  0.08948978],\n",
       "       [-0.65853731,  0.5612518 ],\n",
       "       [-0.25325874, -0.11317634],\n",
       "       [-0.89473211,  0.19331416],\n",
       "       [ 0.52593614,  0.5191377 ],\n",
       "       [ 2.2803189 ,  0.17330057],\n",
       "       [ 1.40384881, -0.115848  ],\n",
       "       [-0.20560224,  0.24559118],\n",
       "       [ 0.60265525, -0.27832744],\n",
       "       [ 1.74134971, -0.3106037 ],\n",
       "       [ 0.11468658,  0.31353414],\n",
       "       [ 0.48738857,  0.85982312],\n",
       "       [-0.04706313,  0.69676762],\n",
       "       [ 0.02404538,  0.09869479],\n",
       "       [ 0.44705921, -0.56087256],\n",
       "       [ 0.7899405 ,  1.20641376],\n",
       "       [ 2.10384219,  0.31616879],\n",
       "       [-0.06011403,  0.86703789],\n",
       "       [-0.26546381,  0.79748399],\n",
       "       [ 2.31293717, -0.23866398],\n",
       "       [-0.44319001,  0.05282365],\n",
       "       [ 0.76481372,  0.65998271],\n",
       "       [ 0.4195846 ,  0.72249379],\n",
       "       [ 1.13667491,  0.45610835],\n",
       "       [ 0.23118975, -0.3541318 ],\n",
       "       [ 0.36376558, -0.77782309],\n",
       "       [-0.20134829,  0.23165255],\n",
       "       [-0.66614573,  0.3909068 ],\n",
       "       [ 0.41781554,  1.06037247],\n",
       "       [-0.56077419,  0.23347514],\n",
       "       [ 1.02134012,  0.68834773],\n",
       "       [ 1.40605028, -0.36172986],\n",
       "       [ 0.51580458,  1.02279114],\n",
       "       [-1.23535525,  0.30415593],\n",
       "       [-0.77598852,  1.44243536],\n",
       "       [-0.93600728,  0.64121356],\n",
       "       [ 2.04109781,  0.29067859],\n",
       "       [ 0.45190314,  1.13468893],\n",
       "       [ 0.79206976,  0.46464687],\n",
       "       [ 0.73353204,  0.69791284],\n",
       "       [ 0.07449081,  0.34540627],\n",
       "       [ 0.15420321,  0.4968646 ],\n",
       "       [ 2.18957207,  0.31323026],\n",
       "       [ 0.92005014,  0.81786042],\n",
       "       [-0.61236613,  0.56985994],\n",
       "       [-1.06035213,  0.34387412],\n",
       "       [-0.31311743,  1.43701191],\n",
       "       [ 0.75932128,  0.13143465],\n",
       "       [-0.34546786,  1.01094117],\n",
       "       [ 1.43273451,  0.44674359],\n",
       "       [-0.66120321, -0.04543821],\n",
       "       [-0.8204192 ,  0.24375658],\n",
       "       [ 1.43176211, -0.69596771],\n",
       "       [ 0.77017039, -0.07676601],\n",
       "       [-0.18209582,  0.92666606],\n",
       "       [ 1.38413434, -0.2006773 ],\n",
       "       [ 0.61594739, -0.60934375],\n",
       "       [-0.64417329,  0.57686139],\n",
       "       [-0.49093163,  0.93972066],\n",
       "       [ 1.64732879,  0.9514784 ],\n",
       "       [-0.92906549,  0.91409991],\n",
       "       [ 0.89208946,  0.30478645],\n",
       "       [-0.63941527,  0.38231772],\n",
       "       [ 1.05201291, -0.31571262],\n",
       "       [-1.14369442,  0.1775241 ],\n",
       "       [ 1.24022184, -0.1833543 ],\n",
       "       [ 0.97803758,  1.24270281],\n",
       "       [ 1.43773597, -0.33821478],\n",
       "       [-0.50449109,  1.03436762],\n",
       "       [ 0.3669782 ,  0.09425917],\n",
       "       [-1.37512952, -0.18034352],\n",
       "       [ 2.02603242, -0.13007421],\n",
       "       [-0.18528885,  1.22296084],\n",
       "       [ 0.50720938, -0.58338984],\n",
       "       [ 0.06068224,  0.04231806],\n",
       "       [ 0.94492907,  0.53244944],\n",
       "       [ 0.69774124,  0.71029545],\n",
       "       [-0.97820126,  0.66932123],\n",
       "       [ 1.38649287, -0.15259948],\n",
       "       [ 0.47638611,  0.40419672],\n",
       "       [ 1.94018256,  0.04406849],\n",
       "       [ 2.43905373,  0.96309334],\n",
       "       [-0.2524531 ,  0.60828541],\n",
       "       [ 1.16819562,  0.36176953],\n",
       "       [ 0.68567192, -0.47572   ],\n",
       "       [ 1.13032286, -0.64834816],\n",
       "       [ 1.28980124, -0.03585324],\n",
       "       [ 1.50060752, -0.00542994],\n",
       "       [-0.3146646 ,  0.85086241],\n",
       "       [ 0.51175661,  0.074886  ],\n",
       "       [ 1.4207275 , -0.45023566],\n",
       "       [ 2.11917452, -0.18191816],\n",
       "       [ 1.01819521,  1.05975461],\n",
       "       [-0.10030314,  0.37574616],\n",
       "       [-0.03594112,  0.32409813],\n",
       "       [ 2.04887056,  0.32251768],\n",
       "       [-0.72652707, -0.26442635],\n",
       "       [ 0.95959832,  0.29939021],\n",
       "       [-0.69647985,  0.45114962],\n",
       "       [-1.25181293, -0.1871009 ],\n",
       "       [ 1.81964676,  0.44199723],\n",
       "       [-0.28772081,  1.51999636],\n",
       "       [ 1.12427762,  0.47454512],\n",
       "       [-1.13321213,  0.60657041],\n",
       "       [ 1.13444061, -0.2049193 ],\n",
       "       [-0.08306298,  0.91062001],\n",
       "       [ 1.86643454, -0.02635568],\n",
       "       [ 1.48391729, -0.13966237],\n",
       "       [ 1.77481574,  0.46138932],\n",
       "       [-1.28840328,  0.34202194],\n",
       "       [ 0.29632367,  0.82964271],\n",
       "       [ 0.83626927,  0.99907265],\n",
       "       [ 1.43039257, -0.25431628],\n",
       "       [ 0.47729245,  0.70278465],\n",
       "       [ 0.58676061,  0.41601768],\n",
       "       [-0.62191374,  0.78641424],\n",
       "       [-0.91584652,  0.60440178],\n",
       "       [ 1.31288636, -0.03341514],\n",
       "       [ 1.33238127, -0.56456029],\n",
       "       [-1.4916184 ,  0.37081985],\n",
       "       [-0.31710977,  1.51354852],\n",
       "       [ 0.44633803,  1.88302564],\n",
       "       [ 1.81688128, -0.32855507],\n",
       "       [ 0.41640304,  0.51158167],\n",
       "       [ 0.45183895, -0.3997254 ],\n",
       "       [ 0.68476868, -0.20949489],\n",
       "       [ 0.50394978,  0.47077433],\n",
       "       [ 0.54377859,  0.34685592],\n",
       "       [-0.91625156,  0.87574915],\n",
       "       [-0.85421687,  0.73017671],\n",
       "       [ 1.15716733,  0.222065  ]])"
      ]
     },
     "execution_count": 7,
     "metadata": {},
     "output_type": "execute_result"
    }
   ],
   "source": [
    "X"
   ]
  },
  {
   "cell_type": "code",
   "execution_count": 8,
   "id": "081ffa3d",
   "metadata": {},
   "outputs": [
    {
     "data": {
      "text/plain": [
       "array([0, 1, 1, 1, 0, 0, 1, 1, 1, 0, 1, 0, 1, 0, 1, 1, 1, 1, 0, 1, 1, 1,\n",
       "       0, 0, 1, 0, 1, 1, 1, 0, 0, 1, 0, 1, 1, 1, 1, 0, 0, 0, 1, 1, 1, 1,\n",
       "       1, 0, 1, 0, 1, 0, 0, 0, 1, 0, 1, 1, 1, 1, 0, 1, 1, 0, 0, 1, 0, 1,\n",
       "       1, 1, 0, 1, 0, 1, 0, 0, 1, 1, 1, 1, 1, 1, 0, 0, 1, 1, 0, 1, 0, 0,\n",
       "       1, 1, 0, 0, 0, 1, 0, 1, 0, 0, 1, 0, 1, 0, 0, 0, 0, 1, 0, 0, 0, 1,\n",
       "       0, 1, 0, 0, 0, 0, 0, 0, 0, 0, 0, 1, 1, 0, 1, 1, 0, 0, 1, 0, 0, 0,\n",
       "       1, 0, 1, 0, 1, 0, 0, 0, 1, 0, 1, 1, 0, 0, 0, 1, 0, 1, 1, 0, 0, 1,\n",
       "       1, 1, 1, 1, 1, 1, 1, 0, 1, 1, 1, 0, 0, 0, 0, 1, 0, 0, 0, 1, 0, 1,\n",
       "       1, 1, 0, 0, 0, 1, 0, 0, 0, 0, 1, 1, 0, 0, 0, 1, 1, 1, 1, 0, 1, 0,\n",
       "       0, 0])"
      ]
     },
     "execution_count": 8,
     "metadata": {},
     "output_type": "execute_result"
    }
   ],
   "source": [
    "y"
   ]
  },
  {
   "cell_type": "markdown",
   "id": "d491a847",
   "metadata": {},
   "source": [
    "### Let's plot the data"
   ]
  },
  {
   "cell_type": "code",
   "execution_count": null,
   "id": "ae16256a",
   "metadata": {},
   "outputs": [],
   "source": []
  },
  {
   "cell_type": "code",
   "execution_count": 13,
   "id": "4f805596",
   "metadata": {},
   "outputs": [
    {
     "data": {
      "image/png": "[encoded data removed]",
      "text/plain": [
       "<Figure size 576x576 with 1 Axes>"
      ]
     },
     "metadata": {
      "needs_background": "light"
     },
     "output_type": "display_data"
    }
   ],
   "source": [
    "fig, ax = plt.subplots(figsize=(8,8))\n",
    "\n",
    "sns.scatterplot(x=X[:, 0], y=X[:, 1], hue=y, s=50, ax=ax).set_title(\"Data\");"
   ]
  },
  {
   "cell_type": "markdown",
   "id": "53b28672",
   "metadata": {},
   "source": [
    "### Q: Which type of problem is this ? Which ML algorithms are viable options ?"
   ]
  },
  {
   "cell_type": "markdown",
   "id": "b9df9ac5",
   "metadata": {},
   "source": []
  },
  {
   "cell_type": "markdown",
   "id": "e9dfb15d",
   "metadata": {},
   "source": []
  },
  {
   "cell_type": "markdown",
   "id": "f32e4fbf",
   "metadata": {},
   "source": [
    "### Let's try a Random Forest Classifier"
   ]
  },
  {
   "cell_type": "code",
   "execution_count": 29,
   "id": "5eaf14db",
   "metadata": {},
   "outputs": [],
   "source": [
    "from sklearn.ensemble import RandomForestClassifier\n",
    "from sklearn.model_selection import train_test_split"
   ]
  },
  {
   "cell_type": "code",
   "execution_count": 30,
   "id": "24403354",
   "metadata": {},
   "outputs": [],
   "source": [
    "# we must split the data!\n",
    "\n",
    "Xtrain, Xtest, ytrain, ytest = train_test_split(X, y, random_state=42)"
   ]
  },
  {
   "cell_type": "code",
   "execution_count": 31,
   "id": "2cb24ee4",
   "metadata": {},
   "outputs": [
    {
     "data": {
      "text/plain": [
       "((150, 2), (50, 2))"
      ]
     },
     "execution_count": 31,
     "metadata": {},
     "output_type": "execute_result"
    }
   ],
   "source": [
    "Xtrain.shape, Xtest.shape"
   ]
  },
  {
   "cell_type": "code",
   "execution_count": 32,
   "id": "824a972d",
   "metadata": {},
   "outputs": [],
   "source": [
    "rf = RandomForestClassifier()   # using default values"
   ]
  },
  {
   "cell_type": "code",
   "execution_count": 33,
   "id": "34f6ad9f",
   "metadata": {},
   "outputs": [
    {
     "data": {
      "text/plain": [
       "RandomForestClassifier()"
      ]
     },
     "execution_count": 33,
     "metadata": {},
     "output_type": "execute_result"
    }
   ],
   "source": [
    "rf.fit(Xtrain, ytrain)"
   ]
  },
  {
   "cell_type": "code",
   "execution_count": 34,
   "id": "a3c01ca5",
   "metadata": {},
   "outputs": [
    {
     "data": {
      "text/plain": [
       "1.0"
      ]
     },
     "execution_count": 34,
     "metadata": {},
     "output_type": "execute_result"
    }
   ],
   "source": [
    "rf.score(Xtrain, ytrain)"
   ]
  },
  {
   "cell_type": "markdown",
   "id": "34d14285",
   "metadata": {},
   "source": []
  },
  {
   "cell_type": "markdown",
   "id": "b6b44f52",
   "metadata": {},
   "source": []
  },
  {
   "cell_type": "markdown",
   "id": "2e270d00",
   "metadata": {},
   "source": [
    "## 2. K-fold Cross-Validation"
   ]
  },
  {
   "cell_type": "markdown",
   "id": "823b9022",
   "metadata": {},
   "source": [
    "- It is a statistical resampling procedure used to evaluate machine learning models on a limited data sample\n",
    "\n",
    "- It has a single parameter called k that refers to the number of groups that a given data sample is to be split into\n",
    "\n",
    "- It is used to estimate the skill of a ML model on unseen data"
   ]
  },
  {
   "cell_type": "markdown",
   "id": "9a59d8ed",
   "metadata": {},
   "source": [
    "With cross-validation, we don't need a separate validation dataset. We can use all our training data for model fitting and selection!\n",
    "\n",
    "* With cross-validation, we can see if our model is overfitting, without touching the test data. \n",
    "* The training-data gets split again into k smaller sets and we get back k validation scores. \n",
    "* The mean of these scores can then be compared to our training score."
   ]
  },
  {
   "attachments": {
    "grid_search_cross_validation.png": {
     "image/png": "[encoded data removed]"
    }
   },
   "cell_type": "markdown",
   "id": "00fca700",
   "metadata": {},
   "source": [
    "![grid_search_cross_validation.png](attachment:grid_search_cross_validation.png)"
   ]
  },
  {
   "cell_type": "markdown",
   "id": "f33c702d",
   "metadata": {},
   "source": [
    "### Let's apply this to our data"
   ]
  },
  {
   "cell_type": "code",
   "execution_count": 35,
   "id": "c8151a71",
   "metadata": {},
   "outputs": [],
   "source": [
    "from sklearn.model_selection import cross_val_score"
   ]
  },
  {
   "cell_type": "code",
   "execution_count": 36,
   "id": "bcfeabfe",
   "metadata": {},
   "outputs": [],
   "source": [
    "cross_acc = cross_val_score(rf,   # estimator: # the model you want to evaluate \n",
    "                            Xtrain,         # the training input data \n",
    "                            ytrain,         # the training output data  \n",
    "                            cv=10,          # number of cross validation datasets, k   \n",
    "                            scoring='accuracy') # evaluation metric "
   ]
  },
  {
   "cell_type": "code",
   "execution_count": 37,
   "id": "adf5a648",
   "metadata": {},
   "outputs": [
    {
     "data": {
      "text/plain": [
       "array([0.8       , 0.8       , 1.        , 1.        , 0.8       ,\n",
       "       0.86666667, 1.        , 0.93333333, 0.8       , 0.86666667])"
      ]
     },
     "execution_count": 37,
     "metadata": {},
     "output_type": "execute_result"
    }
   ],
   "source": [
    "cross_acc"
   ]
  },
  {
   "cell_type": "code",
   "execution_count": 38,
   "id": "ab92e53a",
   "metadata": {},
   "outputs": [
    {
     "data": {
      "text/plain": [
       "0.8866666666666667"
      ]
     },
     "execution_count": 38,
     "metadata": {},
     "output_type": "execute_result"
    }
   ],
   "source": [
    "# Comparing mean of the cv-scores with our training score\n",
    "cross_acc.mean()   "
   ]
  },
  {
   "cell_type": "markdown",
   "id": "19fb1da3",
   "metadata": {},
   "source": [
    "### Q: so what does this comparision tell us ?"
   ]
  },
  {
   "cell_type": "markdown",
   "id": "e3f37dd1",
   "metadata": {},
   "source": [
    "* If training score >> mean(validation_scores), then you are overfitting!!\n",
    "* If there is **high variation** in the validation scores, then you have high sampling bias! You probably need more data, pick a different model or change the hyperparameters"
   ]
  },
  {
   "cell_type": "markdown",
   "id": "68ed8dd4",
   "metadata": {},
   "source": [
    "## Grid Search Tuning"
   ]
  },
  {
   "cell_type": "code",
   "execution_count": null,
   "id": "7033b83d",
   "metadata": {},
   "outputs": [],
   "source": []
  }
 ],
 "metadata": {
  "kernelspec": {
   "display_name": "Python 3",
   "language": "python",
   "name": "python3"
  },
  "language_info": {
   "codemirror_mode": {
    "name": "ipython",
    "version": 3
   },
   "file_extension": ".py",
   "mimetype": "text/x-python",
   "name": "python",
   "nbconvert_exporter": "python",
   "pygments_lexer": "ipython3",
   "version": "3.8.8"
  }
 },
 "nbformat": 4,
 "nbformat_minor": 5
}
