{
 "cells": [
  {
   "cell_type": "markdown",
   "id": "24bf8fda",
   "metadata": {},
   "source": [
    "# Objectives"
   ]
  },
  {
   "cell_type": "markdown",
   "id": "1dfb3ed4",
   "metadata": {},
   "source": [
    "1. Introduction to DL keras API\n",
    "2. How to define a model architecture in keras\n",
    "3. How to train a model in keras\n",
    "4. How to evaluate the model in keras"
   ]
  },
  {
   "cell_type": "markdown",
   "id": "8caba057",
   "metadata": {},
   "source": [
    "# Warm-up"
   ]
  },
  {
   "cell_type": "code",
   "execution_count": null,
   "id": "73606eec",
   "metadata": {},
   "outputs": [],
   "source": []
  },
  {
   "cell_type": "markdown",
   "id": "33978943",
   "metadata": {},
   "source": [
    "## 1. What is Keras ?"
   ]
  },
  {
   "cell_type": "markdown",
   "id": "ad3836f6",
   "metadata": {},
   "source": [
    "**Keras is a high level deep learning API that lets you easily build, train and evaluate neural networks**\n",
    "\n",
    "**to train a model in keras 3 steps are needed:**\n",
    "\n",
    "1. **to define the model we need to specify:**\n",
    "\n",
    "- architecture\n",
    "- number of neurons\n",
    "- layers\n",
    "- type of activation function\n",
    "\n",
    "2. **to compile the model we need to specify:**\n",
    "\n",
    "- optimizers\n",
    "- metrics\n",
    "- loss function\n",
    "\n",
    "3. **to fit the model we specify:**\n",
    "\n",
    "- epochs (number of iterations of the dataset in backpropagation)\n",
    "- batch size (the data is fed in batches; not all at once)"
   ]
  },
  {
   "cell_type": "code",
   "execution_count": null,
   "id": "452f614b",
   "metadata": {},
   "outputs": [],
   "source": [
    "from tensorflow import keras\n",
    "from matplotlib import pyplot as plt\n",
    "from tensorflow.keras.layers import Dense, Activation\n",
    "from tensorflow.keras.models import Sequential\n",
    "from sklearn.datasets import make_moons\n",
    "import numpy as np"
   ]
  },
  {
   "cell_type": "code",
   "execution_count": null,
   "id": "3051bbb9",
   "metadata": {},
   "outputs": [],
   "source": []
  }
 ],
 "metadata": {
  "kernelspec": {
   "display_name": "Python 3",
   "language": "python",
   "name": "python3"
  },
  "language_info": {
   "codemirror_mode": {
    "name": "ipython",
    "version": 3
   },
   "file_extension": ".py",
   "mimetype": "text/x-python",
   "name": "python",
   "nbconvert_exporter": "python",
   "pygments_lexer": "ipython3",
   "version": "3.8.8"
  }
 },
 "nbformat": 4,
 "nbformat_minor": 5
}
